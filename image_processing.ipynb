{
  "nbformat": 4,
  "nbformat_minor": 0,
  "metadata": {
    "kernelspec": {
      "display_name": "Python 3",
      "language": "python",
      "name": "python3"
    },
    "language_info": {
      "codemirror_mode": {
        "name": "ipython",
        "version": 3
      },
      "file_extension": ".py",
      "mimetype": "text/x-python",
      "name": "python",
      "nbconvert_exporter": "python",
      "pygments_lexer": "ipython3",
      "version": "3.7.1"
    },
    "colab": {
      "name": "image_processing.ipynb",
      "provenance": [],
      "include_colab_link": true
    }
  },
  "cells": [
    {
      "cell_type": "markdown",
      "metadata": {
        "id": "view-in-github",
        "colab_type": "text"
      },
      "source": [
        "<a href=\"https://colab.research.google.com/github/imvickykumar999/YOLO-Object-Detection/blob/master/image_processing.ipynb\" target=\"_parent\"><img src=\"https://colab.research.google.com/assets/colab-badge.svg\" alt=\"Open In Colab\"/></a>"
      ]
    },
    {
      "cell_type": "markdown",
      "metadata": {
        "id": "-Lc0v1BAhuQI"
      },
      "source": [
        "<!--NAVIGATION-->\n",
        "\n",
        "\n",
        "<a href=\"https://colab.research.google.com/github/jttoivon/data-analysis-with-python-spring-2019/blob/master/image_processing.ipynb\"><img align=\"left\" src=\"https://colab.research.google.com/assets/colab-badge.svg\" alt=\"Open in Colab\" title=\"Open and Execute in Google Colaboratory\"></a>\n",
        "\n",
        "|                                -                                |                                -                                |\n",
        "|-----------------------------------------------------------------|-----------------------------------------------------------------|\n",
        "| [Exercise 11 (to grayscale)](<#Exercise-11-(to-grayscale&#41;>) |  [Exercise 12 (radial fade)](<#Exercise-12-(radial-fade&#41;>)  |\n",
        "\n"
      ]
    },
    {
      "cell_type": "markdown",
      "metadata": {
        "id": "5u-1lZNKhuQL"
      },
      "source": [
        "# Image processing\n",
        "\n",
        "An image is a collection of *pixels*, which is abbreviation for picture elements.\n",
        "A grayscale image can be represented as as two dimensional array, whose first axis corresponds to the x coordinate of the image and the second axis corresponds to the y coordinate. The array contains at each coordinate pair (x,y) a value, which is typically a float between 0.0 and 1.0, or an integer between 0 and 255. This specifies the level of grayness. For example, if the array contains value 255 at coordinates (0,0), then in the image the pixel at top left is white.\n",
        "\n",
        "In color images there is third axis is for the red, green, and blue components of each pixel. For each of these color components there is a value between 0.1 and 1.0 (or between 0 and 255). The combinations of different values for the three components red, green, and blue can result in at least 16.7 million colors.\n",
        "\n",
        "Since images can be represented as multidimensional arrays, we can easily process images using NumPy functions. Let's see examples of these."
      ]
    },
    {
      "cell_type": "code",
      "metadata": {
        "id": "W0zZ2qBLhuQN"
      },
      "source": [
        "import matplotlib.pyplot as plt\n",
        "import numpy as np"
      ],
      "execution_count": null,
      "outputs": []
    },
    {
      "cell_type": "code",
      "metadata": {
        "id": "RkJViw53huQO"
      },
      "source": [
        "painting=plt.imread(\"painting.png\")\n",
        "print(painting.shape)\n",
        "print(\"The image consists of %i pixels\" % (painting.shape[0] * painting.shape[1]))\n",
        "plt.imshow(painting);"
      ],
      "execution_count": null,
      "outputs": []
    },
    {
      "cell_type": "markdown",
      "metadata": {
        "id": "bqUhZ1d6huQO"
      },
      "source": [
        "Because the image is now a NumPy array, we can easily perform some operations:"
      ]
    },
    {
      "cell_type": "code",
      "metadata": {
        "id": "g71rGY5zhuQP"
      },
      "source": [
        "plt.imshow(painting[:,::-1]);              # mirror the image in x direction"
      ],
      "execution_count": null,
      "outputs": []
    },
    {
      "cell_type": "markdown",
      "metadata": {
        "id": "jhIlX9vkhuQQ"
      },
      "source": [
        "In the following we set the pixels on the first 30 rows white:"
      ]
    },
    {
      "cell_type": "code",
      "metadata": {
        "id": "P7DMM7W1huQR"
      },
      "source": [
        "painting2 = painting.copy()    # don't mess the original painting!\n",
        "painting2[0:30, :, :] = 1.0    # max value for all three components produces white\n",
        "plt.imshow(painting2);"
      ],
      "execution_count": null,
      "outputs": []
    },
    {
      "cell_type": "markdown",
      "metadata": {
        "id": "KA7-eH2lhuQS"
      },
      "source": [
        "For a bit more complicated operation we can create a function that returns a copy of the image so that it fades to black as we move to left."
      ]
    },
    {
      "cell_type": "code",
      "metadata": {
        "id": "skCbjcoEhuQT"
      },
      "source": [
        "def fadex(image):\n",
        "    height, width = image.shape[:2]\n",
        "    m=np.linspace(0,1, width).reshape(1,width,1)\n",
        "    result = image*m         # note that we rely on broadcasting here\n",
        "    return result"
      ],
      "execution_count": null,
      "outputs": []
    },
    {
      "cell_type": "code",
      "metadata": {
        "id": "Yn85ZlQYhuQU"
      },
      "source": [
        "modified=fadex(painting)\n",
        "print(modified.shape)\n",
        "plt.imshow(modified);"
      ],
      "execution_count": null,
      "outputs": []
    },
    {
      "cell_type": "markdown",
      "metadata": {
        "id": "VwYb4WRohuQU"
      },
      "source": [
        "#### <div class=\"alert alert-info\">Exercise 11 (to grayscale)</div>\n",
        "\n",
        "This exercise can give two points at maximum!\n",
        "\n",
        "Part 1.\n",
        "\n",
        "Write a function `to_grayscale` that takes an RGB image (three dimensional array) and returns a two dimensional gray-scale image. The conversion to gray-scale should take a weighted sum of the red, green, and blue values, and use that as the value of gray. The first axis is the x, the second is y, and the third is the color components (red, green, blue).\n",
        "Use the weights 0.2126, 0.7152, and 0.0722 for red, green, and blue, respectively. These weights are so because the human eye is most sensitive to green color and least sensitive to blue color.\n",
        "\n",
        "In the main function you can, for example, use the provided image `src/painting.png`. Display the grayscale image with the `plt.imshow` function. You may have to call the function `plt.gray` to set the color palette (colormap) to gray.\n",
        "(See `help(plt.colormaps)` for more information about colormaps.)\n",
        "\n",
        "Part 2.\n",
        "\n",
        "Write functions `to_red`, `to_green`, and `to_blue` that get a three dimensional array as a parameter and return a three dimensional arrays. For instance, the function `to_red` should zero out the green and blue color components and return the result. In the `main` function create a figure with three subfigures: the top one should be the red image, the middle one the green image, and the bottom one the blue image.\n",
        "<hr/>"
      ]
    },
    {
      "cell_type": "markdown",
      "metadata": {
        "id": "wgDQkoxfhuQV"
      },
      "source": [
        "#### <div class=\"alert alert-info\">Exercise 12 (radial fade)</div>\n",
        "\n",
        "Make program that does fading of an image as earlier, except now not in horizontal direction but in radial direction. As we move away from the centre of the image, the pixels fade to black.\n",
        "\n",
        "Part1.\n",
        "\n",
        "Write function `center` that returns coordinate pair (center_y, center_x) of the image center. Note that these coordinates might not be integers. Example of usage:\n",
        "```python\n",
        "print(center(np.zeros(10, 11, 3)))\n",
        "(4.5, 5)\n",
        "```\n",
        "The function should work both for two and three dimensional images, that is grayscale and color images.\n",
        "\n",
        "Write also function `radial_distance` that returns for image with width `w` and height `h` an array with shape (h,w), where the number at index (i,j) gives the euclidean distance from the point (i,j) to the center of the image.\n",
        "\n",
        "Part 2.\n",
        "\n",
        "Create function `scale(a, tmin=0.0, tmax=1.0)` that returns a copy of the array `a` with its elements scaled to be in the range `[tmin,tmax]`.\n",
        "\n",
        "Using the functions `radial_distance` and `scale` write function `radial_mask` that takes an image as a parameter and returns an array with same height and width filled with values between 0.0 and 1.0. Do this using the `scale` function.  To make the resulting array values near the center of array to be close to 1 and closer to the edges of the array are values closer to be 0, subtract the previous array from 1.\n",
        "\n",
        "Write also function `radial_fade` that returns the image multiplied by its radial mask.\n",
        "\n",
        "Test your functions in the `main` function, which should create, using matplotlib, a figure that has three subfigures stacked vertically. On top the original `painting.png`, in the middle the mask, and on the bottom the faded image.\n",
        "<hr/>"
      ]
    },
    {
      "cell_type": "markdown",
      "metadata": {
        "id": "tjbDU8s5huQW"
      },
      "source": [
        "### Finding clusters in an image\n",
        "\n",
        "Let's first generate some data:"
      ]
    },
    {
      "cell_type": "code",
      "metadata": {
        "id": "0-2DZkyhhuQW"
      },
      "source": [
        "n=5\n",
        "l=256\n",
        "im = np.zeros((l,l))\n",
        "np.random.seed(0)\n",
        "points = np.random.randint(0, l, (2, n**2))  # sample n*n pixels from the array im\n",
        "im[points[0], points[1]] = 1\n",
        "plt.imshow(im);"
      ],
      "execution_count": null,
      "outputs": []
    },
    {
      "cell_type": "code",
      "metadata": {
        "id": "9HVWt8oshuQX"
      },
      "source": [
        "from scipy import ndimage\n",
        "im2 = ndimage.gaussian_filter(im, sigma=l/(8.*n))  # blur the image a bit\n",
        "plt.imshow(im2);"
      ],
      "execution_count": null,
      "outputs": []
    },
    {
      "cell_type": "markdown",
      "metadata": {
        "id": "Hu6WF_Q_huQX"
      },
      "source": [
        "Let's try to find clusters from the above image:"
      ]
    },
    {
      "cell_type": "code",
      "metadata": {
        "id": "49wwDB35huQX"
      },
      "source": [
        "mask = im2 > im2.mean()     # mask those pixels whose intensity is above mean\n",
        "label_im, nb_labels = ndimage.label(mask)   # connected components form clusters\n",
        "print(\"Number of clusters is %i\" % nb_labels)\n",
        "plt.imshow(label_im);"
      ],
      "execution_count": null,
      "outputs": []
    },
    {
      "cell_type": "markdown",
      "metadata": {
        "id": "b01nF-RAhuQY"
      },
      "source": [
        "Although this method we used was very simple, it could still be used for example to automatically count number of birds or stars in an image. Of course, humans can do this easily, but when there are hundreds or thousands of images, then it is better to use machines to do this mechanical work."
      ]
    },
    {
      "cell_type": "markdown",
      "metadata": {
        "id": "57AQKiirhuQY"
      },
      "source": [
        "There is large number of applications of image processing of which we list only a few here:\n",
        "\n",
        "* denoising\n",
        "* deblurring\n",
        "* image segmentation\n",
        "* feature extraction\n",
        "* zooming, rotating\n",
        "* filtering"
      ]
    },
    {
      "cell_type": "markdown",
      "metadata": {
        "id": "hxjUoRNvhuQY"
      },
      "source": [
        "## Additional libraries"
      ]
    },
    {
      "cell_type": "markdown",
      "metadata": {
        "id": "hO4lJVaphuQY"
      },
      "source": [
        "The are several libraries written in Python that allow easy processing of images. Few examples of these:\n",
        "\n",
        "* [pillow](https://python-pillow.org/)\n",
        "* [scikit-image](https://scikit-image.org/)\n",
        "* In Scipy there is the subpackage [ndimage](https://docs.scipy.org/doc/scipy/reference/tutorial/ndimage.html) that also contains routines for processing images"
      ]
    },
    {
      "cell_type": "markdown",
      "metadata": {
        "id": "KpDRx-n2huQZ"
      },
      "source": [
        "<!--NAVIGATION-->\n",
        "\n",
        "\n",
        "<a href=\"https://colab.research.google.com/github/jttoivon/data-analysis-with-python-spring-2019/blob/master/image_processing.ipynb\"><img align=\"left\" src=\"https://colab.research.google.com/assets/colab-badge.svg\" alt=\"Open in Colab\" title=\"Open and Execute in Google Colaboratory\"></a>\n"
      ]
    }
  ]
}